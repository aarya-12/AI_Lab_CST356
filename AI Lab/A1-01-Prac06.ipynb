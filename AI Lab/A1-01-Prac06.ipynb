{
 "cells": [
  {
   "cell_type": "code",
   "execution_count": 9,
   "id": "cd97c85f",
   "metadata": {},
   "outputs": [
    {
     "name": "stdout",
     "output_type": "stream",
     "text": [
      "Classification results for K=1:\n",
      "Point (26, 27) is classified as 1\n",
      "\n",
      "Classification results for K=2:\n",
      "Point (26, 27) is classified as 1\n",
      "\n",
      "Classification results for K=3:\n",
      "Point (26, 27) is classified as 1\n",
      "\n",
      "Classification results for K=4:\n",
      "Point (26, 27) is classified as 1\n",
      "\n",
      "Classification results for K=5:\n",
      "Point (26, 27) is classified as 1\n",
      "\n"
     ]
    }
   ],
   "source": [
    "import random\n",
    "import math\n",
    "#randomly generating 20 data points\n",
    "data = [(random.randint(0,50),random.randint(0,50))for i in range(20)]\n",
    "labeled_data = []\n",
    "# assigning positive/negative labels to data points based on x and y\n",
    "for pt in data:\n",
    "    if pt[0] < 26 or pt[1] < 26:\n",
    "        labeled_data.append((pt, 1))\n",
    "    else:\n",
    "        labeled_data.append((pt, -1))\n",
    "\n",
    "def euclidean_distance(A,B):\n",
    "    x1, y1 = A\n",
    "    x2, y2 = B\n",
    "    return math.sqrt((x1-x2)**2 + (y1-y2)**2)  \n",
    "\n",
    "\n",
    "def knn_classification(labeled_data, new_point, k):\n",
    "    distances = []\n",
    "    for pt in labeled_data:\n",
    "        distance = euclidean_distance(new_point,pt[0])\n",
    "        distances.append((distance, pt[1]))\n",
    "    \n",
    "    sorted_distances = sorted(distances, key=lambda x: x[0])\n",
    "    \n",
    "    neighbors = sorted_distances[:k]\n",
    "    sum = 0\n",
    "    for neighbor in neighbors:\n",
    "        sum += neighbor[1]\n",
    "    if sum > 0:\n",
    "        return 1\n",
    "    else:\n",
    "        return -1\n",
    "\n",
    "    \n",
    "for k in range(1, 6):\n",
    "    print(f\"Classification results for K={k}:\")\n",
    "    point = (26,27)\n",
    "    label = knn_classification(labeled_data, point, k)\n",
    "    print(f\"Point {point} is classified as {label}\")\n",
    "    print()\n",
    "    "
   ]
  },
  {
   "cell_type": "code",
   "execution_count": null,
   "id": "c10ccdcf",
   "metadata": {},
   "outputs": [],
   "source": []
  }
 ],
 "metadata": {
  "kernelspec": {
   "display_name": "Python 3 (ipykernel)",
   "language": "python",
   "name": "python3"
  },
  "language_info": {
   "codemirror_mode": {
    "name": "ipython",
    "version": 3
   },
   "file_extension": ".py",
   "mimetype": "text/x-python",
   "name": "python",
   "nbconvert_exporter": "python",
   "pygments_lexer": "ipython3",
   "version": "3.10.11"
  }
 },
 "nbformat": 4,
 "nbformat_minor": 5
}
