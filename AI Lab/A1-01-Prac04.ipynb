{
 "cells": [
  {
   "cell_type": "code",
   "execution_count": 5,
   "id": "f6ef7531",
   "metadata": {},
   "outputs": [
    {
     "name": "stdout",
     "output_type": "stream",
     "text": [
      "\n",
      "States:\n",
      "[[1, 2, 3], [4, 0, 5], [6, 7, 8]]\n",
      "[[1, 2, 3], [0, 4, 5], [6, 7, 8]]\n",
      "[[0, 2, 3], [1, 4, 5], [6, 7, 8]]\n",
      "[[2, 0, 3], [1, 4, 5], [6, 7, 8]]\n",
      "[[2, 3, 0], [1, 4, 5], [6, 7, 8]]\n",
      "[[2, 3, 5], [1, 4, 0], [6, 7, 8]]\n",
      "[[2, 3, 5], [1, 0, 4], [6, 7, 8]]\n",
      "[[2, 0, 5], [1, 3, 4], [6, 7, 8]]\n",
      "[[0, 2, 5], [1, 3, 4], [6, 7, 8]]\n",
      "[[1, 2, 5], [0, 3, 4], [6, 7, 8]]\n",
      "[[1, 2, 5], [3, 0, 4], [6, 7, 8]]\n",
      "[[1, 2, 5], [3, 4, 0], [6, 7, 8]]\n",
      "[[1, 2, 0], [3, 4, 5], [6, 7, 8]]\n",
      "[[1, 0, 2], [3, 4, 5], [6, 7, 8]]\n",
      "[[0, 1, 2], [3, 4, 5], [6, 7, 8]]\n"
     ]
    }
   ],
   "source": [
    "from queue import PriorityQueue\n",
    "\n",
    "#initial and goal states\n",
    "initial_state = [[1, 2, 3], [4, 0, 5], [6, 7, 8]]\n",
    "goal_state = [[0, 1, 2], [3, 4, 5], [6, 7, 8]]\n",
    "\n",
    "#heuristic function (using manhattan distance)\n",
    "def heuristic(state):\n",
    "    distance = 0\n",
    "    for i in range(3):\n",
    "        for j in range(3):\n",
    "            if state[i][j] != 0:\n",
    "                distance += abs(i - (state[i][j]-1)//3) + abs(j - (state[i][j]-1)%3)\n",
    "    return distance\n",
    "\n",
    "# A* search algorithm\n",
    "def astar(initial_state, goal_state):\n",
    "    visited = set()\n",
    "    pq = PriorityQueue()\n",
    "    pq.put((heuristic(initial_state), initial_state, 0, []))#0 is cost , list is for path\n",
    "\n",
    "    while not pq.empty():\n",
    "        _, state, cost, path = pq.get()\n",
    "        if state == goal_state:\n",
    "            return path + [state]\n",
    "        visited.add(tuple(map(tuple, state)))\n",
    "\n",
    "       \n",
    "        row, col = 0, 0\n",
    "        for i in range(3):\n",
    "            for j in range(3):\n",
    "                if state[i][j] == 0:\n",
    "                    row, col = i, j\n",
    "\n",
    "        for i, j in [(row-1, col), (row, col-1), (row, col+1), (row+1, col)]:\n",
    "            if 0 <= i < 3 and 0 <= j < 3:\n",
    "                new_state = [row[:] for row in state]\n",
    "                new_state[row][col], new_state[i][j] = new_state[i][j], new_state[row][col]\n",
    "                if tuple(map(tuple, new_state)) not in visited:\n",
    "                    new_path = path + [state]\n",
    "                    pq.put((cost + 1 + heuristic(new_state), new_state, cost + 1, new_path))\n",
    "\n",
    "    return None \n",
    "\n",
    "path = astar(initial_state, goal_state)\n",
    "if path is None:\n",
    "    print(\"Goal state is not reachable from initial state.\")\n",
    "else:\n",
    "    print(\"\\nStates:\")\n",
    "    for state in path:\n",
    "        print(state)\n"
   ]
  },
  {
   "cell_type": "code",
   "execution_count": null,
   "id": "6389e0f0",
   "metadata": {},
   "outputs": [],
   "source": []
  }
 ],
 "metadata": {
  "kernelspec": {
   "display_name": "Python 3 (ipykernel)",
   "language": "python",
   "name": "python3"
  },
  "language_info": {
   "codemirror_mode": {
    "name": "ipython",
    "version": 3
   },
   "file_extension": ".py",
   "mimetype": "text/x-python",
   "name": "python",
   "nbconvert_exporter": "python",
   "pygments_lexer": "ipython3",
   "version": "3.10.11"
  }
 },
 "nbformat": 4,
 "nbformat_minor": 5
}
