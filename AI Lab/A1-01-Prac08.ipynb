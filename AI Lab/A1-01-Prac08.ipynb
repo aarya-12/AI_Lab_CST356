{
 "cells": [
  {
   "cell_type": "code",
   "execution_count": 2,
   "id": "0b7ee2a4",
   "metadata": {},
   "outputs": [
    {
     "name": "stdout",
     "output_type": "stream",
     "text": [
      "OR(0, 1) = 1\n",
      "OR(1, 1) = 1\n",
      "OR(0, 0) = 0\n",
      "OR(1, 0) = 1\n"
     ]
    }
   ],
   "source": [
    "import numpy as np\n",
    "\n",
    "def perceptron(x, w, b):\n",
    "    y = np.dot(w, x) + b\n",
    "    if y >= 0:\n",
    "        return 1\n",
    "    else:\n",
    "        return 0\n",
    "\n",
    "def OR(x):\n",
    "    w = np.random.uniform(low=1, high=10, size=(2,))\n",
    "    b = -0.5\n",
    "    return perceptron(x, w, b)\n",
    "\n",
    "test1 = np.array([0, 1])\n",
    "test2 = np.array([1, 1])\n",
    "test3 = np.array([0, 0])\n",
    "test4 = np.array([1, 0])\n",
    "\n",
    "print(\"OR({}, {}) = {}\".format(0, 1, OR(test1)))\n",
    "print(\"OR({}, {}) = {}\".format(1, 1, OR(test2)))\n",
    "print(\"OR({}, {}) = {}\".format(0, 0, OR(test3)))\n",
    "print(\"OR({}, {}) = {}\".format(1, 0, OR(test4)))\n"
   ]
  },
  {
   "cell_type": "code",
   "execution_count": 3,
   "id": "74b801d2",
   "metadata": {},
   "outputs": [],
   "source": [
    "import numpy as np"
   ]
  },
  {
   "cell_type": "code",
   "execution_count": 4,
   "id": "8edfa03b",
   "metadata": {},
   "outputs": [],
   "source": [
    "w = np.random.uniform(low=1, high=10, size=(2,))"
   ]
  },
  {
   "cell_type": "code",
   "execution_count": 5,
   "id": "87a70c7d",
   "metadata": {},
   "outputs": [
    {
     "data": {
      "text/plain": [
       "array([1.12786265, 5.45940071])"
      ]
     },
     "execution_count": 5,
     "metadata": {},
     "output_type": "execute_result"
    }
   ],
   "source": [
    "w"
   ]
  },
  {
   "cell_type": "code",
   "execution_count": 7,
   "id": "9e79b40d",
   "metadata": {},
   "outputs": [
    {
     "name": "stdout",
     "output_type": "stream",
     "text": [
      "AND(0, 1) = 0\n",
      "AND(1, 1) = 1\n",
      "AND(0, 0) = 0\n",
      "AND(1, 0) = 0\n"
     ]
    }
   ],
   "source": [
    "def perceptron(x, w, b):\n",
    "    y = np.dot(w, x) + b\n",
    "    if y >= 0:\n",
    "        return 1\n",
    "    else:\n",
    "        return 0\n",
    "  \n",
    "\n",
    "def AND(x):\n",
    "    w = np.random.uniform(low=1, high=10, size=(2,))\n",
    "    sum_weights = np.sum(w)\n",
    "    threshold = sum_weights - 0.5\n",
    "    b = -threshold\n",
    "    return perceptron(x, w, b)\n",
    "  \n",
    "\n",
    "test1 = np.array([0, 1])\n",
    "test2 = np.array([1, 1])\n",
    "test3 = np.array([0, 0])\n",
    "test4 = np.array([1, 0])\n",
    "  \n",
    "print(\"AND({}, {}) = {}\".format(0, 1, AND(test1)))\n",
    "print(\"AND({}, {}) = {}\".format(1, 1, AND(test2)))\n",
    "print(\"AND({}, {}) = {}\".format(0, 0, AND(test3)))\n",
    "print(\"AND({}, {}) = {}\".format(1, 0, AND(test4)))"
   ]
  },
  {
   "cell_type": "code",
   "execution_count": 20,
   "id": "326e357e",
   "metadata": {},
   "outputs": [
    {
     "name": "stdout",
     "output_type": "stream",
     "text": [
      "NAND(0, 1) = 0\n",
      "NAND(1, 1) = 0\n",
      "NAND(0, 0) = 1\n",
      "NAND(1, 0) = 0\n"
     ]
    }
   ],
   "source": [
    "def perceptron(x, w, b):\n",
    "    y = np.dot(w, x) + b\n",
    "    if y >= 0:\n",
    "        return 1\n",
    "    else:\n",
    "        return 0\n",
    "  \n",
    "\n",
    "def NAND(x):\n",
    "    w = np.random.uniform(low=-10, high=10, size=(2,))\n",
    "    sum_weights = np.sum(w)\n",
    "    threshold = sum_weights + 0.5\n",
    "    b = -threshold\n",
    "    return perceptron(x, w, b)\n",
    "  \n",
    "\n",
    "test1 = np.array([0, 1])\n",
    "test2 = np.array([1, 1])\n",
    "test3 = np.array([0, 0])\n",
    "test4 = np.array([1, 0])\n",
    "  \n",
    "print(\"NAND({}, {}) = {}\".format(0, 1, NAND(test1)))\n",
    "print(\"NAND({}, {}) = {}\".format(1, 1, NAND(test2)))\n",
    "print(\"NAND({}, {}) = {}\".format(0, 0, NAND(test3)))\n",
    "print(\"NAND({}, {}) = {}\".format(1, 0, NAND(test4)))"
   ]
  },
  {
   "cell_type": "code",
   "execution_count": 22,
   "id": "4d6986e2",
   "metadata": {},
   "outputs": [
    {
     "name": "stdout",
     "output_type": "stream",
     "text": [
      "NOR(0, 1) = 1\n",
      "NOR(1, 1) = 1\n",
      "NOR(0, 0) = 0\n",
      "NOR(1, 0) = 1\n"
     ]
    }
   ],
   "source": [
    "def perceptron(x, w, b):\n",
    "    y = np.dot(w, x) + b\n",
    "    if y >= 0:\n",
    "        return 1\n",
    "    else:\n",
    "        return 0\n",
    "  \n",
    "\n",
    "def NOR(x):\n",
    "    w = np.random.uniform(low=-10, high=10, size=(2,))\n",
    "    sum_weights = np.sum(w)\n",
    "    threshold = -0.5\n",
    "    b = -(threshold + sum_weights)\n",
    "    return perceptron(x, w, b)\n",
    "  \n",
    "\n",
    "test1 = np.array([0, 1])\n",
    "test2 = np.array([1, 1])\n",
    "test3 = np.array([0, 0])\n",
    "test4 = np.array([1, 0])\n",
    "  \n",
    "print(\"NOR({}, {}) = {}\".format(0, 1, NOR(test1)))\n",
    "print(\"NOR({}, {}) = {}\".format(1, 1, NOR(test2)))\n",
    "print(\"NOR({}, {}) = {}\".format(0, 0, NOR(test3)))\n",
    "print(\"NOR({}, {}) = {}\".format(1, 0, NOR(test4)))"
   ]
  },
  {
   "cell_type": "code",
   "execution_count": 10,
   "id": "ae5b50b6",
   "metadata": {},
   "outputs": [
    {
     "name": "stdout",
     "output_type": "stream",
     "text": [
      "AND gate -> 41 iterations\n",
      "OR gate -> 34 iterations\n",
      "NAND gate -> 69 iterations\n",
      "NOR gate -> 57 iterations\n"
     ]
    }
   ],
   "source": [
    "import numpy as np\n",
    "import random\n",
    "\n",
    "# Function to train a perceptron model for a given gate\n",
    "def train_perceptron(inputs, outputs, weights, learning_rate, max_iterations):\n",
    "    iterations = 0\n",
    "    while iterations < max_iterations:\n",
    "        for i in range(len(inputs)):\n",
    "            prediction = np.dot(inputs[i], weights)\n",
    "            error = outputs[i] - int(prediction >= 0)\n",
    "            weights = weights + learning_rate * error * inputs[i]\n",
    "        if np.all(np.array([int(np.dot(inputs[i], weights) >= 0) for i in range(len(inputs))]) == outputs):\n",
    "            break\n",
    "        iterations += 1\n",
    "    return weights, iterations\n",
    "\n",
    "# Define the gates' truth tables\n",
    "and_gate = np.array([0, 0, 0, 1])\n",
    "or_gate = np.array([0, 1, 1, 1])\n",
    "nand_gate = np.array([1, 1, 1, 0])\n",
    "nor_gate = np.array([1, 0, 0, 0])\n",
    "\n",
    "# Define the input dataset and learning rate\n",
    "inputs = np.array([[0, 0, 1], [0, 1, 1], [1, 0, 1], [1, 1, 1]])\n",
    "learning_rate = 0.1\n",
    "max_iterations = 1000\n",
    "\n",
    "# Initialize random weights between 1 and 10\n",
    "random.seed(42)\n",
    "initial_weights = np.array([random.uniform(1, 10) for _ in range(3)])\n",
    "\n",
    "# Train the perceptron for each gate and display the results\n",
    "gates = {\"AND\": and_gate, \"OR\": or_gate, \"NAND\": nand_gate, \"NOR\": nor_gate}\n",
    "\n",
    "for gate_name, gate_output in gates.items():\n",
    "    weights, iterations = train_perceptron(inputs, gate_output, np.copy(initial_weights), learning_rate, max_iterations)\n",
    "    print(f\"{gate_name} gate -> {iterations} iterations\")\n"
   ]
  },
  {
   "cell_type": "code",
   "execution_count": 11,
   "id": "905e6739",
   "metadata": {},
   "outputs": [
    {
     "name": "stdout",
     "output_type": "stream",
     "text": [
      "AND gate -> 41 iterations\n",
      "OR gate -> 34 iterations\n",
      "NAND gate -> 69 iterations\n",
      "NOR gate -> 57 iterations\n",
      "\n",
      "Classification of input (1, 1):\n",
      "AND gate -> 1\n",
      "OR gate -> 1\n",
      "NAND gate -> 0\n",
      "NOR gate -> 0\n"
     ]
    }
   ],
   "source": [
    "import numpy as np\n",
    "import random\n",
    "\n",
    "# Function to train a perceptron model for a given gate\n",
    "def train_perceptron(inputs, outputs, weights, learning_rate, max_iterations):\n",
    "    iterations = 0\n",
    "    while iterations < max_iterations:\n",
    "        for i in range(len(inputs)):\n",
    "            prediction = np.dot(inputs[i], weights)\n",
    "            error = outputs[i] - int(prediction >= 0)\n",
    "            weights = weights + learning_rate * error * inputs[i]\n",
    "        if np.all(np.array([int(np.dot(inputs[i], weights) >= 0) for i in range(len(inputs))]) == outputs):\n",
    "            break\n",
    "        iterations += 1\n",
    "    return weights, iterations\n",
    "\n",
    "# Function to classify an input using the trained weights\n",
    "def classify(input_vector, weights):\n",
    "    prediction = np.dot(input_vector, weights)\n",
    "    return int(prediction >= 0)\n",
    "\n",
    "# Define the gates' truth tables\n",
    "and_gate = np.array([0, 0, 0, 1])\n",
    "or_gate = np.array([0, 1, 1, 1])\n",
    "nand_gate = np.array([1, 1, 1, 0])\n",
    "nor_gate = np.array([1, 0, 0, 0])\n",
    "\n",
    "# Define the input dataset and learning rate\n",
    "inputs = np.array([[0, 0, 1], [0, 1, 1], [1, 0, 1], [1, 1, 1]])\n",
    "learning_rate = 0.1\n",
    "max_iterations = 1000\n",
    "\n",
    "# Initialize random weights between 1 and 10\n",
    "random.seed(42)\n",
    "initial_weights = np.array([random.uniform(1, 10) for _ in range(3)])\n",
    "\n",
    "# Train the perceptron for each gate and display the results\n",
    "gates = {\"AND\": and_gate, \"OR\": or_gate, \"NAND\": nand_gate, \"NOR\": nor_gate}\n",
    "\n",
    "for gate_name, gate_output in gates.items():\n",
    "    weights, iterations = train_perceptron(inputs, gate_output, np.copy(initial_weights), learning_rate, max_iterations)\n",
    "    print(f\"{gate_name} gate -> {iterations} iterations\")\n",
    "\n",
    "# Example classification using the trained models\n",
    "example_input = np.array([1, 1, 1])  # New input vector for classification (1, 1) with bias term\n",
    "print(\"\\nClassification of input (1, 1):\")\n",
    "for gate_name, gate_output in gates.items():\n",
    "    weights, _ = train_perceptron(inputs, gate_output, np.copy(initial_weights), learning_rate, max_iterations)\n",
    "    classification_result = classify(example_input, weights)\n",
    "    print(f\"{gate_name} gate -> {classification_result}\")\n"
   ]
  },
  {
   "cell_type": "code",
   "execution_count": null,
   "id": "7e171a9c",
   "metadata": {},
   "outputs": [],
   "source": []
  }
 ],
 "metadata": {
  "kernelspec": {
   "display_name": "Python 3 (ipykernel)",
   "language": "python",
   "name": "python3"
  },
  "language_info": {
   "codemirror_mode": {
    "name": "ipython",
    "version": 3
   },
   "file_extension": ".py",
   "mimetype": "text/x-python",
   "name": "python",
   "nbconvert_exporter": "python",
   "pygments_lexer": "ipython3",
   "version": "3.10.11"
  }
 },
 "nbformat": 4,
 "nbformat_minor": 5
}
