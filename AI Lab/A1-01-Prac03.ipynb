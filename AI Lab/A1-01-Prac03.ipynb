{
 "cells": [
  {
   "cell_type": "code",
   "execution_count": 1,
   "id": "64920031",
   "metadata": {},
   "outputs": [
    {
     "data": {
      "text/plain": [
       "20"
      ]
     },
     "execution_count": 1,
     "metadata": {},
     "output_type": "execute_result"
    }
   ],
   "source": [
    "graph = {\n",
    "    'A':['Z','T','S'],\n",
    "    'Z':['A','O'],\n",
    "    'T':['A','L'],\n",
    "    'S':['A','O','F','RV'],\n",
    "    'O':['Z','S'],\n",
    "    'L':['T','M'],\n",
    "    'F':['S','B'],\n",
    "    'RV':['S','C','P'],\n",
    "    'M':['L','D'],\n",
    "    'B':['F','P','G','U'],\n",
    "    'C':['D','RV','P'],\n",
    "    'P':['RV','C','B'],\n",
    "    'D':['M','C'],\n",
    "    'G':['B'],\n",
    "    'U':['B','H','V'],\n",
    "    'H':['U','E'],\n",
    "    'V':['I','U'],\n",
    "    'E':['H'],\n",
    "    'I':['N','V'],\n",
    "    'N':['I']    \n",
    "}\n",
    "len(graph)"
   ]
  },
  {
   "cell_type": "code",
   "execution_count": 1,
   "id": "6049cfad",
   "metadata": {},
   "outputs": [
    {
     "name": "stdout",
     "output_type": "stream",
     "text": [
      "Shortest path =  A S F B\n"
     ]
    }
   ],
   "source": [
    "def BFS(graph, source, dest):\n",
    "    visited = []\n",
    "    queue = [[source]]\n",
    "\n",
    "    if source == dest:\n",
    "        print(\"Destination and Source are the same!\")\n",
    "        return\n",
    "     \n",
    "    while queue:\n",
    "        path = queue.pop(0)\n",
    "       \n",
    "        node = path[-1] #selecting last element\n",
    "\n",
    "        if node not in visited:\n",
    "            adjacent = graph[node]\n",
    "            for i in adjacent:\n",
    "                new_path = list(path)\n",
    "                new_path.append(i)\n",
    "                queue.append(new_path)\n",
    "                if i == dest:\n",
    "                    print(\"Shortest path = \", *new_path)\n",
    "                    return\n",
    "            visited.append(node)\n",
    " \n",
    "    print(\"A connecting path doesn't exist\")\n",
    "    return\n",
    " \n",
    "\n",
    "graph = {\n",
    "    'A':['Z','T','S'],\n",
    "    'Z':['A','O'],\n",
    "    'T':['A','L'],\n",
    "    'S':['A','O','F','RV'],\n",
    "    'O':['Z','S'],\n",
    "    'L':['T','M'],\n",
    "    'F':['S','B'],\n",
    "    'RV':['S','C','P'],\n",
    "    'M':['L','D'],\n",
    "    'B':['F','P','G','U'],\n",
    "    'C':['D','RV','P'],\n",
    "    'P':['RV','C','B'],\n",
    "    'D':['M','C'],\n",
    "    'G':['B'],\n",
    "    'U':['B','H','V'],\n",
    "    'H':['U','E'],\n",
    "    'V':['I','U'],\n",
    "    'E':['H'],\n",
    "    'I':['N','V'],\n",
    "    'N':['I']    \n",
    "}\n",
    "BFS(graph, 'A', 'B')"
   ]
  },
  {
   "cell_type": "code",
   "execution_count": null,
   "id": "162fb714",
   "metadata": {},
   "outputs": [],
   "source": []
  }
 ],
 "metadata": {
  "kernelspec": {
   "display_name": "Python 3 (ipykernel)",
   "language": "python",
   "name": "python3"
  },
  "language_info": {
   "codemirror_mode": {
    "name": "ipython",
    "version": 3
   },
   "file_extension": ".py",
   "mimetype": "text/x-python",
   "name": "python",
   "nbconvert_exporter": "python",
   "pygments_lexer": "ipython3",
   "version": "3.10.11"
  }
 },
 "nbformat": 4,
 "nbformat_minor": 5
}
