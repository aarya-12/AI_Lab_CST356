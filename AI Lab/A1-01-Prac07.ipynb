{
 "cells": [
  {
   "cell_type": "code",
   "execution_count": 3,
   "id": "68144f86",
   "metadata": {},
   "outputs": [],
   "source": [
    "import pandas as pd\n",
    "from sklearn.naive_bayes import GaussianNB"
   ]
  },
  {
   "cell_type": "code",
   "execution_count": 4,
   "id": "ac989624",
   "metadata": {},
   "outputs": [],
   "source": [
    "data = [['Red', 'Sports', 'Domestic', 'Yes'],\n",
    "        ['Red', 'Sports', 'Domestic', 'No'],\n",
    "        ['Red', 'Sports', 'Domestic', 'Yes'],\n",
    "        ['Yellow', 'Sports', 'Domestic', 'No'],\n",
    "        ['Yellow', 'Sports', 'Imported', 'Yes'],\n",
    "        ['Yellow', 'SUV', 'Imported', 'No'],\n",
    "        ['Yellow', 'SUV', 'Imported', 'Yes'],\n",
    "        ['Yellow', 'SUV', 'Domestic', 'No'],\n",
    "        ['Red', 'SUV', 'Imported', 'No'],\n",
    "        ['Red', 'Sports', 'Imported', 'Yes']]"
   ]
  },
  {
   "cell_type": "code",
   "execution_count": 7,
   "id": "53b96947",
   "metadata": {},
   "outputs": [
    {
     "name": "stdout",
     "output_type": "stream",
     "text": [
      "    Color    Type    Origin Is Stolen\n",
      "0     Red  Sports  Domestic       Yes\n",
      "1     Red  Sports  Domestic        No\n",
      "2     Red  Sports  Domestic       Yes\n",
      "3  Yellow  Sports  Domestic        No\n",
      "4  Yellow  Sports  Imported       Yes\n",
      "5  Yellow     SUV  Imported        No\n",
      "6  Yellow     SUV  Imported       Yes\n",
      "7  Yellow     SUV  Domestic        No\n",
      "8     Red     SUV  Imported        No\n",
      "9     Red  Sports  Imported       Yes\n",
      "   Color  Type  Origin  Is Stolen\n",
      "0      0     0       0          1\n",
      "1      0     0       0          0\n",
      "2      0     0       0          1\n",
      "3      1     0       0          0\n",
      "4      1     0       1          1\n",
      "5      1     1       1          0\n",
      "6      1     1       1          1\n",
      "7      1     1       0          0\n",
      "8      0     1       1          0\n",
      "9      0     0       1          1\n",
      "The car is not stolen.\n"
     ]
    },
    {
     "name": "stderr",
     "output_type": "stream",
     "text": [
      "/Users/aarya/Desktop/sample_project/env/lib/python3.10/site-packages/sklearn/base.py:439: UserWarning: X does not have valid feature names, but GaussianNB was fitted with feature names\n",
      "  warnings.warn(\n"
     ]
    }
   ],
   "source": [
    "df = pd.DataFrame(data, columns=['Color', 'Type', 'Origin', 'Is Stolen'])\n",
    "print(df)\n",
    "df['Color'] = df['Color'].map({'Red': 0, 'Yellow': 1})\n",
    "df['Type'] = df['Type'].map({'Sports': 0, 'SUV': 1})\n",
    "df['Origin'] = df['Origin'].map({'Domestic': 0, 'Imported': 1})\n",
    "df['Is Stolen'] = df['Is Stolen'].map({'No': 0, 'Yes': 1})\n",
    "print(df)\n",
    "X = df.drop('Is Stolen', axis=1) \n",
    "y = df['Is Stolen']              \n",
    "\n",
    "\n",
    "nb = GaussianNB()\n",
    "nb.fit(X, y)\n",
    "\n",
    "\n",
    "target = [[0, 1, 0]]\n",
    "predicted = nb.predict(target)\n",
    "if predicted[0] == 0:\n",
    "    print(\"The car is not stolen.\")\n",
    "else:\n",
    "    print(\"The car is stolen.\")"
   ]
  },
  {
   "cell_type": "code",
   "execution_count": 1,
   "id": "c950e8b9",
   "metadata": {},
   "outputs": [
    {
     "name": "stdout",
     "output_type": "stream",
     "text": [
      "Probability of Yes is :  0.024\n",
      "Probability of No is :  0.072\n",
      "NO\n"
     ]
    }
   ],
   "source": [
    "Total_Exp= 10\n",
    "Yes=5\n",
    "No=5\n",
    "E_Yes=Yes/Total_Exp;\n",
    "E_No=No/Total_Exp;\n",
    "\n",
    "Red_Yes = 3/5\n",
    "Red_No = 2/5\n",
    "\n",
    "SUV_Yes = 1/5\n",
    "SUV_No = 3/5\n",
    "\n",
    "Domestic_Yes = 2/5\n",
    "Domestic_No = 3/5\n",
    "\n",
    "P_Yes = E_Yes * Red_Yes * SUV_Yes * Domestic_Yes\n",
    "P_No = E_No * Red_No * SUV_No * Domestic_No\n",
    "\n",
    "print('Probability of Yes is : ',P_Yes)\n",
    "print('Probability of No is : ',P_No)\n",
    "\n",
    "if(P_Yes > P_No):\n",
    "  print('YES')\n",
    "else :\n",
    "  print('NO')"
   ]
  },
  {
   "cell_type": "code",
   "execution_count": null,
   "id": "0b9b014a",
   "metadata": {},
   "outputs": [],
   "source": []
  }
 ],
 "metadata": {
  "kernelspec": {
   "display_name": "Python 3 (ipykernel)",
   "language": "python",
   "name": "python3"
  },
  "language_info": {
   "codemirror_mode": {
    "name": "ipython",
    "version": 3
   },
   "file_extension": ".py",
   "mimetype": "text/x-python",
   "name": "python",
   "nbconvert_exporter": "python",
   "pygments_lexer": "ipython3",
   "version": "3.10.11"
  }
 },
 "nbformat": 4,
 "nbformat_minor": 5
}
